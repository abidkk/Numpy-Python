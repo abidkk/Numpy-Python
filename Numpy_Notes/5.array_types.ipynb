{
 "cells": [
  {
   "cell_type": "markdown",
   "metadata": {},
   "source": [
    "# Array Types"
   ]
  },
  {
   "cell_type": "markdown",
   "metadata": {},
   "source": [
    "# 1. Createing Array using Python List"
   ]
  },
  {
   "cell_type": "code",
   "execution_count": 17,
   "metadata": {},
   "outputs": [],
   "source": [
    "import numpy as np "
   ]
  },
  {
   "cell_type": "code",
   "execution_count": 2,
   "metadata": {},
   "outputs": [
    {
     "name": "stdout",
     "output_type": "stream",
     "text": [
      "['a', 'e', 'i', 'o', 'u']\n"
     ]
    }
   ],
   "source": [
    "l1 = ['a', 'e', 'i', 'o', 'u']\n",
    "arr1 = np.array(l1)\n",
    "print(l1)"
   ]
  },
  {
   "cell_type": "code",
   "execution_count": 3,
   "metadata": {},
   "outputs": [
    {
     "name": "stdout",
     "output_type": "stream",
     "text": [
      "Shape:  (5,)\n",
      "dimension:  1\n",
      "size:  5\n",
      "Data Type:  <U1\n"
     ]
    }
   ],
   "source": [
    "print(\"Shape: \", arr1.shape)\n",
    "print(\"dimension: \", arr1.ndim)\n",
    "print(\"size: \", arr1.size)\n",
    "print(\"Data Type: \", arr1.dtype)"
   ]
  },
  {
   "cell_type": "markdown",
   "metadata": {},
   "source": [
    "# 2. Create an Array Using np.zeros()\n",
    " - The np.zeros() function allows us to create an array filled with all zeros. For example,\n"
   ]
  },
  {
   "cell_type": "markdown",
   "metadata": {},
   "source": [
    "<!-- Array Types -->"
   ]
  },
  {
   "cell_type": "code",
   "execution_count": 4,
   "metadata": {},
   "outputs": [
    {
     "name": "stdout",
     "output_type": "stream",
     "text": [
      "[0. 0. 0. 0. 0.]\n",
      "2D Array\n",
      "[[0. 0. 0. 0.]\n",
      " [0. 0. 0. 0.]\n",
      " [0. 0. 0. 0.]]\n",
      "3D Array\n",
      "[[[0. 0. 0.]\n",
      "  [0. 0. 0.]]\n",
      "\n",
      " [[0. 0. 0.]\n",
      "  [0. 0. 0.]]\n",
      "\n",
      " [[0. 0. 0.]\n",
      "  [0. 0. 0.]]]\n",
      "3\n"
     ]
    }
   ],
   "source": [
    "arr1 = np.zeros(5)\n",
    "print(arr1)\n",
    "\n",
    "\n",
    "# 2D Array using zero function\n",
    "print(\"2D Array\")\n",
    "arr2 = np.zeros((3,4))\n",
    "print(arr2)\n",
    "\n",
    "# 3D Array using zero Function\n",
    "print(\"3D Array\")\n",
    "arr2 = np.zeros((3,2,3))\n",
    "print(arr2)\n",
    "print(arr2.ndim)\n"
   ]
  },
  {
   "cell_type": "code",
   "execution_count": 5,
   "metadata": {},
   "outputs": [
    {
     "name": "stdout",
     "output_type": "stream",
     "text": [
      "Shape:  (5,)\n",
      "dimension:  1\n",
      "size:  5\n",
      "Data Type:  float64\n"
     ]
    }
   ],
   "source": [
    "print(\"Shape: \", arr1.shape)\n",
    "print(\"dimension: \", arr1.ndim)\n",
    "print(\"size: \", arr1.size)\n",
    "print(\"Data Type: \", arr1.dtype)"
   ]
  },
  {
   "cell_type": "markdown",
   "metadata": {},
   "source": [
    "# 3. Create an Array Using np.Ones()\n",
    " - The np.ones() function allows us to create an array filled with all ones. For example,\n"
   ]
  },
  {
   "cell_type": "code",
   "execution_count": 6,
   "metadata": {},
   "outputs": [
    {
     "name": "stdout",
     "output_type": "stream",
     "text": [
      "[1. 1. 1. 1. 1.]\n",
      "2D Array\n",
      "[[1. 1. 1. 1.]\n",
      " [1. 1. 1. 1.]\n",
      " [1. 1. 1. 1.]]\n",
      "3D Array\n",
      "[[[1. 1. 1.]\n",
      "  [1. 1. 1.]]\n",
      "\n",
      " [[1. 1. 1.]\n",
      "  [1. 1. 1.]]\n",
      "\n",
      " [[1. 1. 1.]\n",
      "  [1. 1. 1.]]\n",
      "\n",
      " [[1. 1. 1.]\n",
      "  [1. 1. 1.]]]\n"
     ]
    }
   ],
   "source": [
    "arr1 = np.ones(5)\n",
    "print(arr1)\n",
    "\n",
    "\n",
    "# 2D Array using zero function\n",
    "print(\"2D Array\")\n",
    "arr2 = np.ones((3,4))\n",
    "print(arr2)\n",
    "\n",
    "# 3D Array using zero Function\n",
    "print(\"3D Array\")\n",
    "arr2 = np.ones((4,2,3))\n",
    "print(arr2)\n"
   ]
  },
  {
   "cell_type": "markdown",
   "metadata": {},
   "source": [
    "# 4. Create an Array With np.arange()\n",
    " - The np.arange() function returns an array with values within a specified interval. For example,"
   ]
  },
  {
   "cell_type": "code",
   "execution_count": 7,
   "metadata": {},
   "outputs": [
    {
     "name": "stdout",
     "output_type": "stream",
     "text": [
      "[5 7 9]\n"
     ]
    }
   ],
   "source": [
    "arr1 = np.arange(5,10,2)\n",
    "print(arr1)"
   ]
  },
  {
   "cell_type": "markdown",
   "metadata": {},
   "source": [
    "# 5.Create an Array With np.random.rand()\n",
    " - The np.random.rand() function is used to create an array of random numbers."
   ]
  },
  {
   "cell_type": "code",
   "execution_count": 8,
   "metadata": {},
   "outputs": [
    {
     "name": "stdout",
     "output_type": "stream",
     "text": [
      "[159 236 348 914 749]\n",
      "[159.49157349 236.40960392 348.36141126 914.58265165 749.38094688]\n",
      "2D Array\n",
      "[[0.90465885 0.29762314 0.72698662]\n",
      " [0.12043675 0.29985677 0.6613047 ]\n",
      " [0.28729516 0.56164341 0.26169805]]\n",
      "3D Array\n",
      "[[[8.20888150e+02 7.31024141e+01 7.20149057e+02]\n",
      "  [3.71452402e+02 6.19245705e+02 7.06201568e+02]\n",
      "  [3.01685302e+02 2.63780465e+02 9.85441512e+02]\n",
      "  [2.26892799e+02 4.05457331e+02 7.84779221e+02]]\n",
      "\n",
      " [[1.05901971e+02 5.71645822e+02 1.21960123e+01]\n",
      "  [8.77250890e+02 3.54397545e+02 1.29704523e+02]\n",
      "  [7.76447707e+02 4.73603594e+00 8.87296131e+02]\n",
      "  [3.15481445e+02 4.49397305e+02 5.71016429e+02]]\n",
      "\n",
      " [[5.41511142e+01 4.05302952e+02 7.92169150e+02]\n",
      "  [1.66687071e+01 5.10582270e+02 4.00768080e+02]\n",
      "  [3.25136524e+02 4.02564237e+02 8.48031219e-01]\n",
      "  [7.80632012e+02 9.23509893e+02 9.47611646e+02]]\n",
      "\n",
      " [[7.96702297e+02 5.95594509e+02 5.99646743e+02]\n",
      "  [8.08655663e+02 9.18276160e+02 6.46279625e+02]\n",
      "  [1.16573653e+02 8.68125374e+02 1.08087440e+02]\n",
      "  [4.36061791e+02 8.15758516e+02 9.45202816e+02]]]\n"
     ]
    }
   ],
   "source": [
    "arr1 = np.random.rand(5)*1000\n",
    "ar = arr1.astype(int)\n",
    "print(ar)\n",
    "print(arr1)\n",
    "\n",
    "\n",
    "# 2D Array using zero function\n",
    "print(\"2D Array\")\n",
    "arr2 = np.random.rand(3,3)\n",
    "print(arr2)\n",
    "\n",
    "# 3D Array using zero Function\n",
    "print(\"3D Array\")\n",
    "arr2 = np.random.rand(4,4,3)*1000\n",
    "\n",
    "print(arr2)\n",
    "\n",
    "\n",
    "\n"
   ]
  },
  {
   "cell_type": "code",
   "execution_count": 9,
   "metadata": {},
   "outputs": [
    {
     "name": "stdout",
     "output_type": "stream",
     "text": [
      "Removing Decimals\n",
      "[[[820  73 720]\n",
      "  [371 619 706]\n",
      "  [301 263 985]\n",
      "  [226 405 784]]\n",
      "\n",
      " [[105 571  12]\n",
      "  [877 354 129]\n",
      "  [776   4 887]\n",
      "  [315 449 571]]\n",
      "\n",
      " [[ 54 405 792]\n",
      "  [ 16 510 400]\n",
      "  [325 402   0]\n",
      "  [780 923 947]]\n",
      "\n",
      " [[796 595 599]\n",
      "  [808 918 646]\n",
      "  [116 868 108]\n",
      "  [436 815 945]]]\n"
     ]
    }
   ],
   "source": [
    "print(\"Removing Decimals\")\n",
    "arrr = arr2.astype(int)\n",
    "print(arrr)"
   ]
  },
  {
   "cell_type": "markdown",
   "metadata": {},
   "source": [
    "# 6. Create an Empty NumPy Array\n",
    " - To create an empty NumPy array, we use the np.empty() function. For example,"
   ]
  },
  {
   "cell_type": "code",
   "execution_count": 10,
   "metadata": {},
   "outputs": [
    {
     "name": "stdout",
     "output_type": "stream",
     "text": [
      "[6.56541534e+199 1.24413145e+137 2.28683327e+243 3.65875442e+233\n",
      " 9.08254283e+223 1.69595973e+199 2.28191497e+232 2.25565487e+137\n",
      " 2.58142444e+161 9.88627443e+170 1.10020917e-071 7.66577641e+218\n",
      " 2.06738284e-027 2.55616198e+161 9.88585060e+170]\n"
     ]
    }
   ],
   "source": [
    "arr1 = np.empty(15)\n",
    "print(arr1)"
   ]
  },
  {
   "cell_type": "markdown",
   "metadata": {},
   "source": [
    "    - If we look into the output of the code, we can see the empty array is actually not empty, it has some values in it.\n",
    "\n",
    "    - It is because although we are creating an empty array, NumPy will try to add some value to it. The values stored in the array are arbitrary and have no significance."
   ]
  },
  {
   "cell_type": "markdown",
   "metadata": {},
   "source": [
    "# 7. Diagonal Array"
   ]
  },
  {
   "cell_type": "code",
   "execution_count": 11,
   "metadata": {},
   "outputs": [
    {
     "name": "stdout",
     "output_type": "stream",
     "text": [
      "[[1. 0. 0. 0.]\n",
      " [0. 1. 0. 0.]\n",
      " [0. 0. 1. 0.]\n",
      " [0. 0. 0. 1.]]\n"
     ]
    }
   ],
   "source": [
    "arr = np.eye(4)\n",
    "print(arr)"
   ]
  },
  {
   "cell_type": "code",
   "execution_count": 12,
   "metadata": {},
   "outputs": [
    {
     "name": "stdout",
     "output_type": "stream",
     "text": [
      "[[1. 0. 0. 0. 0.]\n",
      " [0. 1. 0. 0. 0.]\n",
      " [0. 0. 1. 0. 0.]]\n"
     ]
    }
   ],
   "source": [
    "arr = np.eye(3,5)\n",
    "print(arr)"
   ]
  },
  {
   "cell_type": "code",
   "execution_count": 13,
   "metadata": {},
   "outputs": [
    {
     "name": "stdout",
     "output_type": "stream",
     "text": [
      "[[1. 0. 0. 0. 0. 0.]\n",
      " [0. 1. 0. 0. 0. 0.]\n",
      " [0. 0. 1. 0. 0. 0.]\n",
      " [0. 0. 0. 1. 0. 0.]\n",
      " [0. 0. 0. 0. 1. 0.]\n",
      " [0. 0. 0. 0. 0. 1.]]\n"
     ]
    }
   ],
   "source": [
    "arr = np.eye(6,6)\n",
    "print(arr)"
   ]
  },
  {
   "cell_type": "markdown",
   "metadata": {},
   "source": [
    "        - All Diagonal elements are filled by 1"
   ]
  },
  {
   "cell_type": "markdown",
   "metadata": {},
   "source": [
    "# 8. Linspace Array"
   ]
  },
  {
   "cell_type": "code",
   "execution_count": 14,
   "metadata": {},
   "outputs": [
    {
     "name": "stdout",
     "output_type": "stream",
     "text": [
      "[ 0.  5. 10.]\n"
     ]
    }
   ],
   "source": [
    "arr = np.linspace(0,10,num=3) # 0 TO 10 and total numbers should be 3\n",
    "print(arr)"
   ]
  },
  {
   "cell_type": "code",
   "execution_count": 15,
   "metadata": {},
   "outputs": [
    {
     "name": "stdout",
     "output_type": "stream",
     "text": [
      "[ 0.   2.5  5.   7.5 10. ]\n"
     ]
    }
   ],
   "source": [
    "arr = np.linspace(0,10,num=5)\n",
    "print(arr)"
   ]
  },
  {
   "cell_type": "code",
   "execution_count": 16,
   "metadata": {},
   "outputs": [
    {
     "name": "stdout",
     "output_type": "stream",
     "text": [
      "[ 5. 10. 15. 20.]\n"
     ]
    }
   ],
   "source": [
    "arr = np.linspace(5,20,num=4)\n",
    "print(arr)"
   ]
  },
  {
   "cell_type": "code",
   "execution_count": null,
   "metadata": {},
   "outputs": [],
   "source": []
  }
 ],
 "metadata": {
  "kernelspec": {
   "display_name": "Py12",
   "language": "python",
   "name": "python3"
  },
  "language_info": {
   "codemirror_mode": {
    "name": "ipython",
    "version": 3
   },
   "file_extension": ".py",
   "mimetype": "text/x-python",
   "name": "python",
   "nbconvert_exporter": "python",
   "pygments_lexer": "ipython3",
   "version": "3.12.7"
  }
 },
 "nbformat": 4,
 "nbformat_minor": 2
}
