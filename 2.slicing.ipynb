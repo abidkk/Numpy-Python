{
 "cells": [
  {
   "cell_type": "markdown",
   "metadata": {},
   "source": [
    "# Array Slicing "
   ]
  },
  {
   "cell_type": "markdown",
   "metadata": {},
   "source": [
    "\n",
    "- Slicing in python means taking elements from one given index to another given index.\n",
    "\n",
    "    - We pass slice instead of index like this: [start:end].\n",
    "\n",
    "    - We can also define the step, like this: [start:end:step].\n",
    "\n",
    "    - If we don't pass start its considered 0\n",
    "\n",
    "    - If we don't pass end its considered length of array in that dimension\n",
    "\n",
    "    - If we don't pass step its considered 1 "
   ]
  },
  {
   "cell_type": "code",
   "execution_count": 3,
   "metadata": {},
   "outputs": [],
   "source": [
    "import numpy as np"
   ]
  },
  {
   "cell_type": "code",
   "execution_count": 17,
   "metadata": {},
   "outputs": [
    {
     "name": "stdout",
     "output_type": "stream",
     "text": [
      "[ 10  20  30  40  50  60  70  80  90 100]\n",
      "[20 30 40 50 60]\n",
      "[20 40 60 80]\n"
     ]
    }
   ],
   "source": [
    "arr1 = np.array([10,20,30,40,50,60,70,80,90,100])\n",
    "print(arr1)\n",
    "\n",
    "# Slicing\n",
    "newArr1 = arr1[1:6]\n",
    "print(newArr1) \n",
    "\n",
    "# skip 1 step\n",
    "newArr2 = arr1[1:8:2]\n",
    "print(newArr2)"
   ]
  },
  {
   "cell_type": "markdown",
   "metadata": {},
   "source": [
    "# Slicing 2D Array"
   ]
  },
  {
   "cell_type": "code",
   "execution_count": null,
   "metadata": {},
   "outputs": [
    {
     "name": "stdout",
     "output_type": "stream",
     "text": [
      "[[11 22 33 44 55 66 77 88 99]\n",
      " [10 20 30 40 50 60 70 80 90]]\n",
      "---\n",
      "[20 50 80]\n"
     ]
    }
   ],
   "source": [
    "arr2 = np.array([[11,22,33,44,55,66,77,88,99], [10,20,30,40,50,60,70,80,90]])\n",
    "print(arr2)\n",
    "\n",
    "# Slicing\n",
    "print(\"---\")\n",
    "newArr3 = arr2[1, 1:8:3] # 20 50 80\n",
    "print(newArr3)"
   ]
  },
  {
   "cell_type": "markdown",
   "metadata": {},
   "source": [
    "# Negative Slicing"
   ]
  },
  {
   "cell_type": "code",
   "execution_count": 32,
   "metadata": {},
   "outputs": [
    {
     "name": "stdout",
     "output_type": "stream",
     "text": [
      "[100 200 300 400 500 600 700 800]\n",
      "[800 600 400 200]\n"
     ]
    }
   ],
   "source": [
    "arr4 = np.array([100,200,300,400,500,600,700,800])\n",
    "print(arr4)\n",
    "\n",
    "# Negative Slicing\n",
    "print(arr4[-1:-8:-2])"
   ]
  },
  {
   "cell_type": "code",
   "execution_count": null,
   "metadata": {},
   "outputs": [],
   "source": []
  }
 ],
 "metadata": {
  "kernelspec": {
   "display_name": "Py12",
   "language": "python",
   "name": "python3"
  },
  "language_info": {
   "codemirror_mode": {
    "name": "ipython",
    "version": 3
   },
   "file_extension": ".py",
   "mimetype": "text/x-python",
   "name": "python",
   "nbconvert_exporter": "python",
   "pygments_lexer": "ipython3",
   "version": "3.12.7"
  }
 },
 "nbformat": 4,
 "nbformat_minor": 2
}
