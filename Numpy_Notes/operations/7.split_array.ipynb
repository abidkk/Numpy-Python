{
 "cells": [
  {
   "cell_type": "markdown",
   "metadata": {},
   "source": [
    "# Aray Split"
   ]
  },
  {
   "cell_type": "code",
   "execution_count": 44,
   "metadata": {},
   "outputs": [],
   "source": [
    "import numpy as np"
   ]
  },
  {
   "cell_type": "markdown",
   "metadata": {},
   "source": [
    "# Spliting 1D Array"
   ]
  },
  {
   "cell_type": "code",
   "execution_count": 45,
   "metadata": {},
   "outputs": [
    {
     "name": "stdout",
     "output_type": "stream",
     "text": [
      "[array([10, 20]), array([30, 40]), array([50, 60]), array([70, 80]), array([90, 10])]\n",
      "[70 80]\n",
      "\n",
      " -- \n",
      "\n",
      "[array([10, 20, 30, 40, 50]), array([60, 70, 80, 90, 10])]\n",
      "[10 20 30 40 50]\n"
     ]
    }
   ],
   "source": [
    "arr = np.array([10,20,30,40,50,60,70,80,90,10])\n",
    "\n",
    "arr_s = np.split(arr, 5)  # SPLIT IN 5 PARTS\n",
    "print(arr_s)\n",
    "print(arr_s[3])\n",
    "print('\\n -- \\n')\n",
    "arr_s = np.split(arr, 2)  # SPLIT IN 2 PARTS\n",
    "print(arr_s)\n",
    "print(arr_s[0])"
   ]
  },
  {
   "cell_type": "markdown",
   "metadata": {},
   "source": []
  },
  {
   "cell_type": "markdown",
   "metadata": {},
   "source": [
    "# Spliting 2D Array"
   ]
  },
  {
   "cell_type": "code",
   "execution_count": 46,
   "metadata": {},
   "outputs": [
    {
     "name": "stdout",
     "output_type": "stream",
     "text": [
      "[array([[2, 4, 6, 8]]), array([[ 5, 10, 15, 20]])]\n"
     ]
    }
   ],
   "source": [
    "arr = np.array([[2,4,6,8], [5,10,15,20]])\n",
    "\n",
    "arr_s = np.split(arr, 2)  # SPLIT IN 2 PARTS\n",
    "print(arr_s)\n",
    "\n"
   ]
  },
  {
   "cell_type": "markdown",
   "metadata": {},
   "source": [
    "# Spliting 3D Array"
   ]
  },
  {
   "cell_type": "code",
   "execution_count": 47,
   "metadata": {},
   "outputs": [
    {
     "name": "stdout",
     "output_type": "stream",
     "text": [
      "[[[  2   4   6   8]\n",
      "  [  5  10  15  20]\n",
      "  [100 200 300 400]\n",
      "  [111 222 333 444]]]\n",
      "[array([[[  2,   4,   6,   8],\n",
      "        [  5,  10,  15,  20],\n",
      "        [100, 200, 300, 400],\n",
      "        [111, 222, 333, 444]]])]\n"
     ]
    }
   ],
   "source": [
    "arr = np.array([[[2,4,6,8], [5,10,15,20], [100,200,300,400], [111,222,333,444]]])\n",
    "\n",
    "print(arr)\n",
    "\n",
    "arr_s = np.split(arr, 1)  # SPLIT IN  PARTS\n",
    "print(arr_s)\n",
    "\n"
   ]
  },
  {
   "cell_type": "code",
   "execution_count": null,
   "metadata": {},
   "outputs": [],
   "source": []
  }
 ],
 "metadata": {
  "kernelspec": {
   "display_name": "Py12",
   "language": "python",
   "name": "python3"
  },
  "language_info": {
   "codemirror_mode": {
    "name": "ipython",
    "version": 3
   },
   "file_extension": ".py",
   "mimetype": "text/x-python",
   "name": "python",
   "nbconvert_exporter": "python",
   "pygments_lexer": "ipython3",
   "version": "3.12.7"
  }
 },
 "nbformat": 4,
 "nbformat_minor": 2
}
