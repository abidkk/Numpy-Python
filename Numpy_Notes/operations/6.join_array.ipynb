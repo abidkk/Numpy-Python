{
 "cells": [
  {
   "cell_type": "markdown",
   "metadata": {},
   "source": [
    "# Array Join "
   ]
  },
  {
   "cell_type": "markdown",
   "metadata": {},
   "source": [
    "# 1. Join Arrays using concrete function"
   ]
  },
  {
   "cell_type": "code",
   "execution_count": null,
   "metadata": {},
   "outputs": [],
   "source": [
    "import numpy as np"
   ]
  },
  {
   "cell_type": "code",
   "execution_count": null,
   "metadata": {},
   "outputs": [
    {
     "name": "stdout",
     "output_type": "stream",
     "text": [
      "[1 2 3 4 2 4 6 8]\n"
     ]
    }
   ],
   "source": [
    "arr1 = np.array([1,2,3,4])\n",
    "arr2 = np.array([2,4,6,8])\n",
    "\n",
    "c_arr = np.concatenate((arr1, arr2))\n",
    "print(c_arr)\n"
   ]
  },
  {
   "cell_type": "markdown",
   "metadata": {},
   "source": [
    "- Concate Multi Dimension Array"
   ]
  },
  {
   "cell_type": "code",
   "execution_count": null,
   "metadata": {},
   "outputs": [
    {
     "name": "stdout",
     "output_type": "stream",
     "text": [
      "[[ 1  2  3  4]\n",
      " [ 2  4  6  8]\n",
      " [10 20 30 40]\n",
      " [11 22 33 44]]\n",
      "\n",
      " -- \n",
      "\n",
      "Axis 1:  [[ 1  2  3  4 10 20 30 40]\n",
      " [ 2  4  6  8 11 22 33 44]]\n",
      "\n",
      " -- \n",
      "\n",
      "Axis 0:  [[ 1  2  3  4]\n",
      " [ 2  4  6  8]\n",
      " [10 20 30 40]\n",
      " [11 22 33 44]]\n"
     ]
    }
   ],
   "source": [
    "arr1 = np.array([[1,2,3,4],[2,4,6,8]])\n",
    "arr2 = np.array([[10,20,30,40],[11,22,33,44]])\n",
    "\n",
    "c_arr = np.concatenate((arr1, arr2))\n",
    "print(c_arr)\n",
    "\n",
    "print(\"\\n -- \\n\")\n",
    "\n",
    "# Axis 1\n",
    "c_arr1= np.concatenate((arr1, arr2), axis=1)\n",
    "print(\"Axis 1: \", c_arr1)\n",
    "\n",
    "print(\"\\n -- \\n\")\n",
    "\n",
    "# Axis 0\n",
    "c_arr2= np.concatenate((arr1, arr2),axis=0)\n",
    "print(\"Axis 0: \", c_arr2)\n"
   ]
  },
  {
   "cell_type": "markdown",
   "metadata": {},
   "source": [
    "# Stack function"
   ]
  },
  {
   "cell_type": "code",
   "execution_count": null,
   "metadata": {},
   "outputs": [
    {
     "name": "stdout",
     "output_type": "stream",
     "text": [
      "[[10 20 30 40]\n",
      " [ 5 10 15 20]]\n",
      "\n",
      " -- \n",
      "\n",
      "[[10 20 30 40]\n",
      " [ 5 10 15 20]]\n",
      "\n",
      " -- \n",
      "\n",
      "[[10  5]\n",
      " [20 10]\n",
      " [30 15]\n",
      " [40 20]]\n"
     ]
    }
   ],
   "source": [
    "arr1 = np.array([10,20,30,40])\n",
    "arr2 = np.array([5,10,15,20])\n",
    "\n",
    "print(np.stack((arr1,arr2)))\n",
    "print(\"\\n -- \\n\")\n",
    "print(np.stack((arr1,arr2), axis=0))\n",
    "print(\"\\n -- \\n\")\n",
    "print(np.stack((arr1,arr2), axis=1))"
   ]
  },
  {
   "cell_type": "code",
   "execution_count": null,
   "metadata": {},
   "outputs": [
    {
     "name": "stdout",
     "output_type": "stream",
     "text": [
      "[[10 20 30 40]\n",
      " [ 5 10 15 20]]\n",
      "\n",
      " -- \n",
      "\n"
     ]
    }
   ],
   "source": [
    "print(np.stack((arr1,arr2)))\n",
    "print(\"\\n -- \\n\")"
   ]
  },
  {
   "cell_type": "markdown",
   "metadata": {},
   "source": [
    "# hstack : row"
   ]
  },
  {
   "cell_type": "code",
   "execution_count": null,
   "metadata": {},
   "outputs": [
    {
     "name": "stdout",
     "output_type": "stream",
     "text": [
      "[10 20 30 40  5 10 15 20]\n",
      "\n",
      " -- \n",
      "\n"
     ]
    }
   ],
   "source": [
    "print(np.hstack((arr1,arr2)))\n",
    "print(\"\\n -- \\n\")"
   ]
  },
  {
   "cell_type": "markdown",
   "metadata": {},
   "source": [
    "# vstack : colums"
   ]
  },
  {
   "cell_type": "code",
   "execution_count": null,
   "metadata": {},
   "outputs": [
    {
     "name": "stdout",
     "output_type": "stream",
     "text": [
      "[[10 20 30 40]\n",
      " [ 5 10 15 20]]\n",
      "\n",
      " -- \n",
      "\n"
     ]
    }
   ],
   "source": [
    "print(np.vstack((arr1,arr2)))\n",
    "print(\"\\n -- \\n\")"
   ]
  },
  {
   "cell_type": "markdown",
   "metadata": {},
   "source": [
    "# dstack : height"
   ]
  },
  {
   "cell_type": "code",
   "execution_count": null,
   "metadata": {},
   "outputs": [
    {
     "name": "stdout",
     "output_type": "stream",
     "text": [
      "[[[10  5]\n",
      "  [20 10]\n",
      "  [30 15]\n",
      "  [40 20]]]\n",
      "\n",
      " -- \n",
      "\n"
     ]
    }
   ],
   "source": [
    "print(np.dstack((arr1,arr2)))\n",
    "print(\"\\n -- \\n\")"
   ]
  }
 ],
 "metadata": {
  "kernelspec": {
   "display_name": "Py12",
   "language": "python",
   "name": "python3"
  },
  "language_info": {
   "codemirror_mode": {
    "name": "ipython",
    "version": 3
   },
   "file_extension": ".py",
   "mimetype": "text/x-python",
   "name": "python",
   "nbconvert_exporter": "python",
   "pygments_lexer": "ipython3",
   "version": "3.12.7"
  }
 },
 "nbformat": 4,
 "nbformat_minor": 2
}
