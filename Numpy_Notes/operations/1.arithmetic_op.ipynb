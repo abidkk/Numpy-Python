{
 "cells": [
  {
   "cell_type": "markdown",
   "metadata": {},
   "source": [
    "# Arithemetic Operator"
   ]
  },
  {
   "cell_type": "code",
   "execution_count": 51,
   "metadata": {},
   "outputs": [],
   "source": [
    "import numpy as np "
   ]
  },
  {
   "cell_type": "markdown",
   "metadata": {},
   "source": [
    "# Addition +\n"
   ]
  },
  {
   "cell_type": "code",
   "execution_count": 52,
   "metadata": {},
   "outputs": [
    {
     "name": "stdout",
     "output_type": "stream",
     "text": [
      "One Dimension\n",
      "[ 3  6  9 12 15]\n",
      "---\n",
      "Two Dimension\n",
      "[[ 3  6  9 12 15]\n",
      " [ 3  6 11 11  6]]\n"
     ]
    }
   ],
   "source": [
    "arr1 = np.array([1,2,3,4,5])\n",
    "arr2 = np.array([2,4,6,8,10])\n",
    "print(\"One Dimension\")\n",
    "print(arr1 + arr2)\n",
    "print(\"---\")\n",
    "\n",
    "x = np.array([[1,2,3,4,5],[1,3,6,9,5]])\n",
    "y = np.array([[2,4,6,8,10],[2,3,5,2,1]])\n",
    "print(\"Two Dimension\")\n",
    "print(x + y)"
   ]
  },
  {
   "cell_type": "markdown",
   "metadata": {},
   "source": [
    "# Subtraction -"
   ]
  },
  {
   "cell_type": "code",
   "execution_count": 53,
   "metadata": {},
   "outputs": [
    {
     "name": "stdout",
     "output_type": "stream",
     "text": [
      "One Dimension\n",
      "[-1 -2 -3 -4 -5]\n",
      "---\n",
      "Two Dimension\n",
      "[[-1 -2 -3 -4 -5]\n",
      " [-1  0  1  7  4]]\n"
     ]
    }
   ],
   "source": [
    "arr1 = np.array([1,2,3,4,5])\n",
    "arr2 = np.array([2,4,6,8,10])\n",
    "print(\"One Dimension\")\n",
    "print(arr1 - arr2)\n",
    "print(\"---\")\n",
    "\n",
    "x = np.array([[1,2,3,4,5],[1,3,6,9,5]])\n",
    "y = np.array([[2,4,6,8,10],[2,3,5,2,1]])\n",
    "print(\"Two Dimension\")\n",
    "print(x - y)"
   ]
  },
  {
   "cell_type": "markdown",
   "metadata": {},
   "source": [
    "# Multiplication * "
   ]
  },
  {
   "cell_type": "code",
   "execution_count": 54,
   "metadata": {},
   "outputs": [
    {
     "name": "stdout",
     "output_type": "stream",
     "text": [
      "One Dimension\n",
      "[ 6 16 50]\n",
      "---\n",
      "Two Dimension\n",
      "[[ 2  8 50]\n",
      " [ 2 27 15]]\n"
     ]
    }
   ],
   "source": [
    "arr1 = np.array([3,4,5])\n",
    "arr2 = np.array([2,4,10])\n",
    "print(\"One Dimension\")\n",
    "print(arr1 * arr2)\n",
    "print(\"---\")\n",
    "\n",
    "x = np.array([[1,2,5],[1,9,5]])\n",
    "y = np.array([[2,4,10],[2,3,3]])\n",
    "print(\"Two Dimension\")\n",
    "print(x * y)"
   ]
  },
  {
   "cell_type": "markdown",
   "metadata": {},
   "source": [
    "# Division /"
   ]
  },
  {
   "cell_type": "code",
   "execution_count": 55,
   "metadata": {},
   "outputs": [
    {
     "name": "stdout",
     "output_type": "stream",
     "text": [
      "One Dimension\n",
      "[1.5 1.  0.5]\n",
      "---\n",
      "Two Dimension\n",
      "[[0.5        0.5        0.5       ]\n",
      " [0.5        3.         1.66666667]]\n"
     ]
    }
   ],
   "source": [
    "arr1 = np.array([3,4,5])\n",
    "arr2 = np.array([2,4,10])\n",
    "print(\"One Dimension\")\n",
    "print(arr1 / arr2)\n",
    "print(\"---\")\n",
    "\n",
    "x = np.array([[1,2,5],[1,9,5]])\n",
    "y = np.array([[2,4,10],[2,3,3]])\n",
    "print(\"Two Dimension\")\n",
    "print(x / y)"
   ]
  },
  {
   "cell_type": "markdown",
   "metadata": {},
   "source": [
    "# Modulus %"
   ]
  },
  {
   "cell_type": "code",
   "execution_count": 56,
   "metadata": {},
   "outputs": [
    {
     "name": "stdout",
     "output_type": "stream",
     "text": [
      "One Dimension\n",
      "[1 0 5]\n",
      "---\n",
      "Two Dimension\n",
      "[[1 2 5]\n",
      " [1 0 2]]\n"
     ]
    }
   ],
   "source": [
    "arr1 = np.array([3,4,5])\n",
    "arr2 = np.array([2,4,10])\n",
    "print(\"One Dimension\")\n",
    "print(arr1 % arr2)\n",
    "print(\"---\")\n",
    "\n",
    "x = np.array([[1,2,5],[1,9,5]])\n",
    "y = np.array([[2,4,10],[2,3,3]])\n",
    "print(\"Two Dimension\")\n",
    "print(x % y)"
   ]
  },
  {
   "cell_type": "markdown",
   "metadata": {},
   "source": [
    "# Exponent **"
   ]
  },
  {
   "cell_type": "code",
   "execution_count": 57,
   "metadata": {},
   "outputs": [
    {
     "name": "stdout",
     "output_type": "stream",
     "text": [
      "One Dimension\n",
      "[      9     256 9765625]\n",
      "---\n",
      "Two Dimension\n",
      "[[      1      16 9765625]\n",
      " [      1     729     125]]\n"
     ]
    }
   ],
   "source": [
    "arr1 = np.array([3,4,5])\n",
    "arr2 = np.array([2,4,10])\n",
    "print(\"One Dimension\")\n",
    "print(arr1**arr2)\n",
    "print(\"---\")\n",
    "\n",
    "x = np.array([[1,2,5],[1,9,5]])\n",
    "y = np.array([[2,4,10],[2,3,3]])\n",
    "print(\"Two Dimension\")\n",
    "print(x**y)"
   ]
  }
 ],
 "metadata": {
  "kernelspec": {
   "display_name": "Py12",
   "language": "python",
   "name": "python3"
  },
  "language_info": {
   "codemirror_mode": {
    "name": "ipython",
    "version": 3
   },
   "file_extension": ".py",
   "mimetype": "text/x-python",
   "name": "python",
   "nbconvert_exporter": "python",
   "pygments_lexer": "ipython3",
   "version": "3.12.7"
  }
 },
 "nbformat": 4,
 "nbformat_minor": 2
}
