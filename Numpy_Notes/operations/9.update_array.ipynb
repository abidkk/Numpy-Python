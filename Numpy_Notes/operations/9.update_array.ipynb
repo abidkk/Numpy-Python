{
 "cells": [
  {
   "cell_type": "markdown",
   "metadata": {},
   "source": [
    "# Update & Delete Array values"
   ]
  },
  {
   "cell_type": "code",
   "execution_count": 11,
   "metadata": {},
   "outputs": [],
   "source": [
    "import numpy as np"
   ]
  },
  {
   "cell_type": "markdown",
   "metadata": {},
   "source": [
    "# Insert Function\n",
    "\n",
    "- array , index, value"
   ]
  },
  {
   "cell_type": "code",
   "execution_count": 12,
   "metadata": {},
   "outputs": [
    {
     "name": "stdout",
     "output_type": "stream",
     "text": [
      "[10 50 60 80 90]\n",
      "[10 20 30 40 50 60 90]\n"
     ]
    }
   ],
   "source": [
    "arr = np.array([10,50,60,90])\n",
    "\n",
    "x = np.insert(arr,3,80)\n",
    "print(x)\n",
    "\n",
    "y = np.insert(arr,(1),(20,30,40))\n",
    "print(y)\n"
   ]
  },
  {
   "cell_type": "markdown",
   "metadata": {},
   "source": [
    "# Delete Function\n",
    "\n",
    "- array , index"
   ]
  },
  {
   "cell_type": "code",
   "execution_count": 18,
   "metadata": {},
   "outputs": [
    {
     "name": "stdout",
     "output_type": "stream",
     "text": [
      "[10 60 90]\n",
      "[50 90]\n"
     ]
    }
   ],
   "source": [
    "arr = np.array([10,50,60,90])\n",
    "\n",
    "x = np.delete(arr,1)\n",
    "print(x)\n",
    "\n",
    "y = np.delete(arr,(0,2))\n",
    "print(y)\n"
   ]
  }
 ],
 "metadata": {
  "kernelspec": {
   "display_name": "Py12",
   "language": "python",
   "name": "python3"
  },
  "language_info": {
   "codemirror_mode": {
    "name": "ipython",
    "version": 3
   },
   "file_extension": ".py",
   "mimetype": "text/x-python",
   "name": "python",
   "nbconvert_exporter": "python",
   "pygments_lexer": "ipython3",
   "version": "3.12.7"
  }
 },
 "nbformat": 4,
 "nbformat_minor": 2
}
