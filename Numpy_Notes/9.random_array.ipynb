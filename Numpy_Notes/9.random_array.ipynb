{
 "cells": [
  {
   "cell_type": "markdown",
   "metadata": {},
   "source": [
    "# Numpy Random Array\n",
    "\n",
    " - 1. rand : Generates Random numbers between 0 and 1 (uniform distribution).\n",
    " - 2. randn : Grenerates Random numbers following a normal distribution (mean = 0, std = 1).\n",
    " - 3. ranf : Generates Random floats between 0 and 1 (similar to rand, but accepts a shape as an argument instead of dimensions).\n",
    " - 4. randint"
   ]
  },
  {
   "cell_type": "code",
   "execution_count": 46,
   "metadata": {},
   "outputs": [],
   "source": [
    "import numpy as np"
   ]
  },
  {
   "cell_type": "markdown",
   "metadata": {},
   "source": [
    "# 1. rand function\n",
    "- Generates Random numbers between 0 and 1 (uniform distribution)."
   ]
  },
  {
   "cell_type": "code",
   "execution_count": 47,
   "metadata": {},
   "outputs": [
    {
     "name": "stdout",
     "output_type": "stream",
     "text": [
      "[0.83141271 0.29676675 0.20501769]\n"
     ]
    }
   ],
   "source": [
    "arr = np.random.rand(3)\n",
    "print(arr)"
   ]
  },
  {
   "cell_type": "markdown",
   "metadata": {},
   "source": [
    "# 2. randn function\n",
    "- Random numbers following a normal distribution (mean = 0, std = 1)."
   ]
  },
  {
   "cell_type": "code",
   "execution_count": 77,
   "metadata": {},
   "outputs": [
    {
     "name": "stdout",
     "output_type": "stream",
     "text": [
      "[[0.61415852 0.23083463 0.80969231]\n",
      " [1.50786582 0.3319243  3.07063886]\n",
      " [0.34361322 0.68278809 0.49146111]\n",
      " [1.11155027 2.99352376 1.23571402]\n",
      " [0.4768051  0.97722687 0.86766667]]\n",
      "float64\n"
     ]
    }
   ],
   "source": [
    "arr = np.random.randn(5,3)\n",
    "print(arr)\n",
    "print(arr.dtype)"
   ]
  },
  {
   "cell_type": "markdown",
   "metadata": {},
   "source": [
    "# 3. ranf function\n",
    "- Random floats between 0 and 1 (similar to rand, but accepts a shape as an argument instead of dimensions)."
   ]
  },
  {
   "cell_type": "code",
   "execution_count": 79,
   "metadata": {},
   "outputs": [
    {
     "name": "stdout",
     "output_type": "stream",
     "text": [
      "[0.66206912 0.19523695 0.06221253]\n",
      "float64\n"
     ]
    }
   ],
   "source": [
    "arr = np.random.ranf(3)\n",
    "print(arr)\n",
    "print(arr.dtype)"
   ]
  },
  {
   "cell_type": "markdown",
   "metadata": {},
   "source": [
    "# 4. randint function\n",
    "- Random integers from low (inclusive) to high (exclusive).\n",
    "\n",
    "        - Usage: numpy.random.randint(low, high, size)"
   ]
  },
  {
   "cell_type": "code",
   "execution_count": 81,
   "metadata": {},
   "outputs": [
    {
     "name": "stdout",
     "output_type": "stream",
     "text": [
      "[12 10 18]\n",
      "1\n"
     ]
    }
   ],
   "source": [
    "arr = np.random.randint(10,20,3)\n",
    "print(arr)\n",
    "print(arr.ndim)"
   ]
  },
  {
   "cell_type": "markdown",
   "metadata": {},
   "source": [
    "# Extras"
   ]
  },
  {
   "cell_type": "code",
   "execution_count": 83,
   "metadata": {},
   "outputs": [
    {
     "name": "stdout",
     "output_type": "stream",
     "text": [
      "[170  70  90]\n"
     ]
    }
   ],
   "source": [
    "arr = np.random.randint(5,20,3)*10\n",
    "print(arr)"
   ]
  },
  {
   "cell_type": "code",
   "execution_count": null,
   "metadata": {},
   "outputs": [],
   "source": []
  }
 ],
 "metadata": {
  "kernelspec": {
   "display_name": "Py12",
   "language": "python",
   "name": "python3"
  },
  "language_info": {
   "codemirror_mode": {
    "name": "ipython",
    "version": 3
   },
   "file_extension": ".py",
   "mimetype": "text/x-python",
   "name": "python",
   "nbconvert_exporter": "python",
   "pygments_lexer": "ipython3",
   "version": "3.12.7"
  }
 },
 "nbformat": 4,
 "nbformat_minor": 2
}
