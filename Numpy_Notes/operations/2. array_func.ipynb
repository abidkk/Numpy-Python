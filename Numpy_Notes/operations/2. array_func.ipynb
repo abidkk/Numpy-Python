{
 "cells": [
  {
   "cell_type": "markdown",
   "metadata": {},
   "source": [
    "# Numpy Array Function"
   ]
  },
  {
   "cell_type": "markdown",
   "metadata": {},
   "source": [
    "# Min & Max\n",
    " - Find minimum and maximum values from array"
   ]
  },
  {
   "cell_type": "code",
   "execution_count": 16,
   "metadata": {},
   "outputs": [],
   "source": [
    "import numpy as np"
   ]
  },
  {
   "cell_type": "code",
   "execution_count": 17,
   "metadata": {},
   "outputs": [
    {
     "name": "stdout",
     "output_type": "stream",
     "text": [
      "Min: 100\n",
      "Max:  900\n"
     ]
    }
   ],
   "source": [
    "arr = np.array([100,300,200,900,700])\n",
    "print(\"Min:\", np.min(arr))\n",
    "print(\"Max: \", np.max(arr))"
   ]
  },
  {
   "cell_type": "code",
   "execution_count": 18,
   "metadata": {},
   "outputs": [
    {
     "name": "stdout",
     "output_type": "stream",
     "text": [
      "Min: 10\n",
      "Max:  500\n"
     ]
    }
   ],
   "source": [
    "arr = np.array([[10,20,30,40,50], [100,200,300,400,500]])\n",
    "print(\"Min:\", np.min(arr))\n",
    "print(\"Max: \", np.max(arr))"
   ]
  }
 ],
 "metadata": {
  "kernelspec": {
   "display_name": "Py12",
   "language": "python",
   "name": "python3"
  },
  "language_info": {
   "codemirror_mode": {
    "name": "ipython",
    "version": 3
   },
   "file_extension": ".py",
   "mimetype": "text/x-python",
   "name": "python",
   "nbconvert_exporter": "python",
   "pygments_lexer": "ipython3",
   "version": "3.12.7"
  }
 },
 "nbformat": 4,
 "nbformat_minor": 2
}
