{
 "cells": [
  {
   "cell_type": "markdown",
   "metadata": {},
   "source": [
    "# Numpy Array"
   ]
  },
  {
   "cell_type": "code",
   "execution_count": 19,
   "metadata": {},
   "outputs": [],
   "source": [
    "import numpy as np"
   ]
  },
  {
   "cell_type": "markdown",
   "metadata": {},
   "source": [
    "# Array Dimension & Shape\n",
    "\n",
    "    - 1. Dimensions (ndim)\n",
    " - Refers to the number of levels or axes in the array.\n",
    " - Each dimension represents a different axis along which data is organized.\n",
    " - Access using the .ndim attribute."
   ]
  },
  {
   "cell_type": "markdown",
   "metadata": {},
   "source": [
    "    - 2.  Shape (shape)\n",
    " - Describes the size of the array along each dimension as a tuple of integers.\n",
    " - Each integer represents the number of elements along that axis.\n",
    " - Access using the .shape attribute."
   ]
  },
  {
   "cell_type": "markdown",
   "metadata": {},
   "source": [
    "\n",
    "# 0D Array (Scalar)\n",
    "- A 0-dimensional array contains only a single value (a scalar)."
   ]
  },
  {
   "cell_type": "code",
   "execution_count": 20,
   "metadata": {},
   "outputs": [
    {
     "name": "stdout",
     "output_type": "stream",
     "text": [
      "100 0 ()\n",
      "Array Dimension:  0\n",
      "Array Shape:  ()\n"
     ]
    }
   ],
   "source": [
    "arr = np.array(100)\n",
    "print(arr, arr.ndim, arr.shape)\n",
    "\n",
    "print(\"Array Dimension: \", arr.ndim)\n",
    "print(\"Array Shape: \", arr.shape)"
   ]
  },
  {
   "cell_type": "markdown",
   "metadata": {},
   "source": [
    "# 1D Array (Vector)\n",
    "- A 1-dimensional array is essentially a list of elements."
   ]
  },
  {
   "cell_type": "code",
   "execution_count": 21,
   "metadata": {},
   "outputs": [
    {
     "name": "stdout",
     "output_type": "stream",
     "text": [
      "[10 20 30 40 50] 1 (5,)\n",
      "Array Dimension:  1\n",
      "Array Shape:  (5,)\n"
     ]
    }
   ],
   "source": [
    "arr = np.array([10,20,30,40,50])\n",
    "print(arr, arr.ndim, arr.shape)\n",
    "\n",
    "print(\"Array Dimension: \", arr.ndim)\n",
    "print(\"Array Shape: \", arr.shape)"
   ]
  },
  {
   "cell_type": "markdown",
   "metadata": {},
   "source": [
    "# 2D Array (Matrix)\n",
    "- A 2-dimensional array is like a table with rows and columns."
   ]
  },
  {
   "cell_type": "code",
   "execution_count": 22,
   "metadata": {},
   "outputs": [
    {
     "name": "stdout",
     "output_type": "stream",
     "text": [
      "[[11 22 33 44]]\n",
      "Array Dimension:  2\n",
      "Array Shape:  (1, 4)\n",
      "\n",
      "[[11 22 33 44]\n",
      " [10 20 30 40]]\n",
      "Array Dimension:  2\n",
      "Array Shape:  (2, 4)\n"
     ]
    }
   ],
   "source": [
    "arr = np.array([[11,22,33,44]])\n",
    "print(arr)\n",
    "print(\"Array Dimension: \", arr.ndim)\n",
    "print(\"Array Shape: \", arr.shape)\n",
    "\n",
    "print()\n",
    "\n",
    "arr2 = np.array([[11,22,33,44],[10,20,30,40]])\n",
    "print(arr2)\n",
    "print(\"Array Dimension: \", arr2.ndim)\n",
    "print(\"Array Shape: \", arr2.shape)\n",
    "\n"
   ]
  },
  {
   "cell_type": "markdown",
   "metadata": {},
   "source": [
    "# 3D Array (Tensor)\n",
    "- A 3-dimensional array can be visualized as a stack of 2D matrices."
   ]
  },
  {
   "cell_type": "code",
   "execution_count": 23,
   "metadata": {},
   "outputs": [
    {
     "name": "stdout",
     "output_type": "stream",
     "text": [
      "[[[100 200 300 400 500]]]\n",
      "Array Dimension:  3\n",
      "Array Shape:  (1, 1, 5)\n",
      "\n",
      "[[[ 10  20  30]\n",
      "  [200 300 400]]]\n",
      "Array Dimension:  3\n",
      "Array Shape:  (1, 2, 3)\n"
     ]
    }
   ],
   "source": [
    "arr = np.array([[[100,200,300,400,500]]])\n",
    "print(arr)\n",
    "print(\"Array Dimension: \", arr.ndim)\n",
    "print(\"Array Shape: \", arr.shape)\n",
    "\n",
    "print()\n",
    "\n",
    "arr2 = np.array([[[10,20,30],[200,300,400]]])\n",
    "print(arr2)\n",
    "print(\"Array Dimension: \", arr2.ndim)\n",
    "print(\"Array Shape: \", arr2.shape)\n"
   ]
  },
  {
   "cell_type": "markdown",
   "metadata": {},
   "source": [
    "# Pre Defined Array Dimension"
   ]
  },
  {
   "cell_type": "code",
   "execution_count": 24,
   "metadata": {},
   "outputs": [
    {
     "name": "stdout",
     "output_type": "stream",
     "text": [
      "[[[[[[[[[[100 200 300 400 500]]]]]]]]]]\n",
      "Dimension:  10\n"
     ]
    }
   ],
   "source": [
    "arr = np.array([100,200,300,400,500], ndmin=10)\n",
    "print(arr)\n",
    "print(\"Dimension: \", arr.ndim)"
   ]
  }
 ],
 "metadata": {
  "kernelspec": {
   "display_name": "Py12",
   "language": "python",
   "name": "python3"
  },
  "language_info": {
   "codemirror_mode": {
    "name": "ipython",
    "version": 3
   },
   "file_extension": ".py",
   "mimetype": "text/x-python",
   "name": "python",
   "nbconvert_exporter": "python",
   "pygments_lexer": "ipython3",
   "version": "3.12.7"
  }
 },
 "nbformat": 4,
 "nbformat_minor": 2
}
