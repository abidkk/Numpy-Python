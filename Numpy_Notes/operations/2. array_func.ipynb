{
 "cells": [
  {
   "cell_type": "markdown",
   "metadata": {},
   "source": [
    "# Numpy Array Function"
   ]
  },
  {
   "cell_type": "markdown",
   "metadata": {},
   "source": [
    "# Min & Max\n",
    " - Find minimum and maximum values from array"
   ]
  },
  {
   "cell_type": "code",
   "execution_count": 5,
   "metadata": {},
   "outputs": [],
   "source": [
    "import numpy as np"
   ]
  },
  {
   "cell_type": "code",
   "execution_count": 6,
   "metadata": {},
   "outputs": [
    {
     "name": "stdout",
     "output_type": "stream",
     "text": [
      "Min: 100\n",
      "Max:  900\n"
     ]
    }
   ],
   "source": [
    "arr = np.array([100,300,200,900,700])\n",
    "print(\"Min:\", np.min(arr))\n",
    "print(\"Max: \", np.max(arr))"
   ]
  },
  {
   "cell_type": "code",
   "execution_count": 7,
   "metadata": {},
   "outputs": [
    {
     "name": "stdout",
     "output_type": "stream",
     "text": [
      "Min: 10\n",
      "Max:  500\n"
     ]
    }
   ],
   "source": [
    "arr = np.array([[10,20,30,40,50], [100,200,300,400,500]])\n",
    "print(\"Min:\", np.min(arr))\n",
    "print(\"Max: \", np.max(arr))"
   ]
  },
  {
   "cell_type": "markdown",
   "metadata": {},
   "source": [
    "# Axis : 0 | 1\n",
    "\n",
    "-  Axis 0 : columns\n",
    "- Axis 1 : rows"
   ]
  },
  {
   "cell_type": "code",
   "execution_count": 8,
   "metadata": {},
   "outputs": [
    {
     "name": "stdout",
     "output_type": "stream",
     "text": [
      "Min: [10 20 30 40 50]\n",
      "Min:  [ 10 100]\n",
      "Max: [100 200 300 400 500]\n",
      "Max:  [ 50 500]\n"
     ]
    }
   ],
   "source": [
    "print(\"Min:\", np.min(arr, axis=0))\n",
    "print(\"Min: \", np.min(arr, axis=1))\n",
    "\n",
    "print(\"Max:\", np.max(arr, axis=0))\n",
    "print(\"Max: \", np.max(arr, axis=1))"
   ]
  },
  {
   "cell_type": "markdown",
   "metadata": {},
   "source": [
    "# argmin & argmax \n",
    "- To know the position"
   ]
  },
  {
   "cell_type": "code",
   "execution_count": 13,
   "metadata": {},
   "outputs": [
    {
     "name": "stdout",
     "output_type": "stream",
     "text": [
      "Min: 10  Position: 0\n",
      "Max:  500  Position: 9\n"
     ]
    }
   ],
   "source": [
    "print(\"Min:\", np.min(arr), \" Position:\" , np.argmin(arr))\n",
    "print(\"Max: \", np.max(arr), \" Position:\",np.argmax(arr))"
   ]
  },
  {
   "cell_type": "markdown",
   "metadata": {},
   "source": [
    "# sqrt \n",
    "- To find squareroot"
   ]
  },
  {
   "cell_type": "code",
   "execution_count": 18,
   "metadata": {},
   "outputs": [
    {
     "name": "stdout",
     "output_type": "stream",
     "text": [
      "SquareRoot: [[ 3.16227766  4.47213595  5.47722558  6.32455532  7.07106781]\n",
      " [10.         14.14213562 17.32050808 20.         22.36067977]]\n"
     ]
    }
   ],
   "source": [
    "print(\"SquareRoot:\", np.sqrt(arr))"
   ]
  },
  {
   "cell_type": "markdown",
   "metadata": {},
   "source": [
    "# square\n",
    "- To find square"
   ]
  },
  {
   "cell_type": "code",
   "execution_count": 19,
   "metadata": {},
   "outputs": [
    {
     "name": "stdout",
     "output_type": "stream",
     "text": [
      "Square: [[   100    400    900   1600   2500]\n",
      " [ 10000  40000  90000 160000 250000]]\n"
     ]
    }
   ],
   "source": [
    "print(\"Square:\", np.square(arr))"
   ]
  },
  {
   "cell_type": "markdown",
   "metadata": {},
   "source": [
    "# sin & cos\n",
    "- To find sin and cos"
   ]
  },
  {
   "cell_type": "code",
   "execution_count": 21,
   "metadata": {},
   "outputs": [
    {
     "name": "stdout",
     "output_type": "stream",
     "text": [
      "sin: [[-0.54402111  0.91294525 -0.98803162  0.74511316 -0.26237485]\n",
      " [-0.50636564 -0.8732973  -0.99975584 -0.85091936 -0.46777181]]\n",
      "\n",
      "--\n",
      "\n",
      "cos: [[-0.83907153  0.40808206  0.15425145 -0.66693806  0.96496603]\n",
      " [ 0.86231887  0.48718768 -0.02209662 -0.52529634 -0.88384927]]\n"
     ]
    }
   ],
   "source": [
    "print(\"sin:\", np.sin(arr))\n",
    "print('\\n--\\n')\n",
    "print(\"cos:\", np.cos(arr))"
   ]
  },
  {
   "cell_type": "markdown",
   "metadata": {},
   "source": [
    "# cumsum\n",
    "- sum to next "
   ]
  },
  {
   "cell_type": "code",
   "execution_count": 23,
   "metadata": {},
   "outputs": [
    {
     "name": "stdout",
     "output_type": "stream",
     "text": [
      "cumsum: [  10   30   60  100  150  250  450  750 1150 1650]\n"
     ]
    }
   ],
   "source": [
    "arr = np.array([[10,20,30,40,50], [100,200,300,400,500]])\n",
    "print(\"cumsum:\", np.cumsum(arr))"
   ]
  },
  {
   "cell_type": "code",
   "execution_count": null,
   "metadata": {},
   "outputs": [],
   "source": []
  }
 ],
 "metadata": {
  "kernelspec": {
   "display_name": "Py12",
   "language": "python",
   "name": "python3"
  },
  "language_info": {
   "codemirror_mode": {
    "name": "ipython",
    "version": 3
   },
   "file_extension": ".py",
   "mimetype": "text/x-python",
   "name": "python",
   "nbconvert_exporter": "python",
   "pygments_lexer": "ipython3",
   "version": "3.12.7"
  }
 },
 "nbformat": 4,
 "nbformat_minor": 2
}
